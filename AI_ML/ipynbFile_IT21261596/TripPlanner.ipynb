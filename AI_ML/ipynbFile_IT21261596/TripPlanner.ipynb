{
 "cells": [
  {
   "cell_type": "code",
   "execution_count": 1,
   "metadata": {
    "colab": {
     "base_uri": "https://localhost:8080/"
    },
    "id": "U-cnZHcOjJvU",
    "outputId": "68ec72d2-87f5-4b70-eded-157b73aa76e8"
   },
   "outputs": [
    {
     "name": "stdout",
     "output_type": "stream",
     "text": [
      "Mounted at /content/drive\n"
     ]
    }
   ],
   "source": [
    "from google.colab import drive\n",
    "drive.mount('/content/drive')"
   ]
  },
  {
   "cell_type": "code",
   "execution_count": 2,
   "metadata": {
    "id": "ZV5S9uzgjh2D"
   },
   "outputs": [],
   "source": [
    "import pandas as pd\n",
    "from sklearn.model_selection import train_test_split\n",
    "from sklearn.ensemble import RandomForestClassifier\n",
    "from sklearn.preprocessing import OneHotEncoder\n",
    "from sklearn.metrics import accuracy_score\n",
    "import json\n",
    "import joblib\n",
    "\n",
    "# Load the datasets\n",
    "travel_df = pd.read_csv('/content/drive/MyDrive/Updated_Travel.csv')\n",
    "distance_df = pd.read_csv('/content/drive/MyDrive/Distance.csv')\n",
    "\n",
    "# Strip whitespace from column names\n",
    "travel_df.columns = travel_df.columns.str.strip()\n",
    "distance_df.columns = distance_df.columns.str.strip()\n"
   ]
  },
  {
   "cell_type": "code",
   "execution_count": 3,
   "metadata": {
    "id": "z4qo9rFnkMnO"
   },
   "outputs": [],
   "source": [
    "# Define features and target column names\n",
    "features = ['Destination Type', 'Destination', 'Month', 'Climate', 'Activities',\n",
    "            'Travel Companions', 'Special Requirement', 'Duration']\n",
    "target = 'Plan'"
   ]
  },
  {
   "cell_type": "code",
   "execution_count": 4,
   "metadata": {
    "colab": {
     "base_uri": "https://localhost:8080/"
    },
    "id": "WT0Ez5q9kfqj",
    "outputId": "95801002-1d8a-4ebd-b847-8d72b06331fc"
   },
   "outputs": [
    {
     "name": "stdout",
     "output_type": "stream",
     "text": [
      "Accuracy: 0.9613095238095238\n"
     ]
    },
    {
     "data": {
      "text/plain": [
       "['travel_model.joblib']"
      ]
     },
     "execution_count": 4,
     "metadata": {},
     "output_type": "execute_result"
    }
   ],
   "source": [
    "# One-hot encode categorical features\n",
    "encoder = OneHotEncoder(sparse_output=False, handle_unknown='ignore')\n",
    "X = encoder.fit_transform(travel_df[features])\n",
    "y = travel_df[target]\n",
    "\n",
    "# Train the model\n",
    "X_train, X_test, y_train, y_test = train_test_split(X, y, test_size=0.2, random_state=42)\n",
    "model = RandomForestClassifier(n_estimators=100, random_state=42)\n",
    "model.fit(X_train, y_train)\n",
    "\n",
    "# Evaluate the model\n",
    "y_pred = model.predict(X_test)\n",
    "print(\"Accuracy:\", accuracy_score(y_test, y_pred))\n",
    "\n",
    "# Save the model\n",
    "joblib.dump(model, 'travel_model.joblib')\n"
   ]
  },
  {
   "cell_type": "code",
   "execution_count": 5,
   "metadata": {
    "id": "mzQsUoJUk68Z"
   },
   "outputs": [],
   "source": [
    "def get_travel_time(from_loc, to_loc):\n",
    "    # Check travel time in both directions\n",
    "    mask_a_to_b = (distance_df['From Destination'] == from_loc) & (distance_df['To Destination'] == to_loc)\n",
    "    mask_b_to_a = (distance_df['From Destination'] == to_loc) & (distance_df['To Destination'] == from_loc)\n",
    "\n",
    "    if not distance_df.loc[mask_a_to_b].empty:\n",
    "        return distance_df.loc[mask_a_to_b, 'Travel Time (Hours)'].iat[0]\n",
    "    elif not distance_df.loc[mask_b_to_a].empty:\n",
    "        return distance_df.loc[mask_b_to_a, 'Travel Time (Hours)'].iat[0]\n",
    "\n",
    "    return None\n"
   ]
  },
  {
   "cell_type": "code",
   "execution_count": 12,
   "metadata": {
    "id": "pXwp4A8zk_2M"
   },
   "outputs": [],
   "source": [
    "def predict_trip_plan(user_input):\n",
    "    required_duration = user_input.get('Duration', 1)\n",
    "    destination_types = [dt.strip() for dt in user_input.get('Destination Type', '').split(',')]\n",
    "    combined_plan = []\n",
    "    used_activities_by_destination = {dest: set() for dest in travel_df['Destination'].unique()}\n",
    "\n",
    "    # Filter destinations based on user-specified destination types if provided\n",
    "    filtered_dfs = [travel_df[travel_df['Destination Type'].str.strip() == dt] for dt in destination_types]\n",
    "    filtered_df = pd.concat(filtered_dfs).drop_duplicates()\n",
    "    unique_destinations = filtered_df['Destination'].unique()\n",
    "\n",
    "    if len(unique_destinations) < required_duration:\n",
    "        additional_destinations = [d for d in travel_df['Destination'].unique() if d not in unique_destinations]\n",
    "        unique_destinations = list(unique_destinations) + additional_destinations[:required_duration - len(unique_destinations)]\n",
    "\n",
    "    current_location = None\n",
    "\n",
    "    for day in range(required_duration):\n",
    "        found_valid_plan = False\n",
    "\n",
    "        for retry in range(len(unique_destinations)):\n",
    "            destination_index = (day + retry) % len(unique_destinations)\n",
    "            destination = unique_destinations[destination_index]\n",
    "\n",
    "            # Check travel time constraint if there's a current location\n",
    "            if current_location:\n",
    "                travel_time_hours_forward = get_travel_time(current_location, destination)\n",
    "                if travel_time_hours_forward is None or travel_time_hours_forward > 4:\n",
    "                    continue  # Skip this destination if no valid route or travel time exceeds 4 hours\n",
    "\n",
    "            # Ensure consecutive day logic is respected when repeating locations\n",
    "            if len(combined_plan) > 0 and combined_plan[-1][f'Day {len(combined_plan)}']['Location'] != destination and any(plan[f'Day {i+1}']['Location'] == destination for i, plan in enumerate(combined_plan)):\n",
    "                continue  # Skip non-consecutive repeats\n",
    "\n",
    "            user_data = [user_input.get(feature, '') if feature != 'Destination' else destination for feature in features[:-1]]\n",
    "            user_data.append(1)  # Predict one day at a time\n",
    "\n",
    "            # Transform the user input using the encoder\n",
    "            user_encoded = encoder.transform([user_data])\n",
    "\n",
    "            # Predict the plan using the trained model\n",
    "            predicted_plan = model.predict(user_encoded)[0]\n",
    "\n",
    "            # Find matching entries to get details about activities and location\n",
    "            mask = (travel_df['Plan'] == predicted_plan) & (travel_df['Destination'] == destination)\n",
    "\n",
    "            if not travel_df.loc[mask].empty:\n",
    "                location = destination\n",
    "\n",
    "                # Get unique activities and remove already used ones for this destination\n",
    "                all_activities_set = set(travel_df.loc[travel_df['Destination'] == location, 'Activities'].values[0].split(', '))\n",
    "                available_activities_set = all_activities_set - used_activities_by_destination[location]\n",
    "\n",
    "                if not available_activities_set:\n",
    "                    continue  # If no new activities are available, try another location\n",
    "\n",
    "                selected_activities_list = list(available_activities_set)[:3]  # Select up to three new activities\n",
    "\n",
    "                combined_plan.append({\n",
    "                    f'Day {day+1}': {\n",
    "                        'Location': location,\n",
    "                        'Activities': selected_activities_list\n",
    "                    }\n",
    "                })\n",
    "\n",
    "                used_activities_by_destination[location].update(selected_activities_list)\n",
    "                found_valid_plan = True\n",
    "                current_location = location  # Update current location after successful plan suggestion\n",
    "\n",
    "                break\n",
    "\n",
    "        if not found_valid_plan and combined_plan:\n",
    "            last_location_info_dict = combined_plan[-1]\n",
    "            last_location_name_str = last_location_info_dict[f'Day {len(combined_plan)}']['Location']\n",
    "            all_activities_for_last_location_set = set(travel_df.loc[travel_df['Destination'] == last_location_name_str, 'Activities'].values[0].split(', '))\n",
    "\n",
    "            new_activities_for_last_location_set = all_activities_for_last_location_set - used_activities_by_destination[last_location_name_str]\n",
    "\n",
    "            if not new_activities_for_last_location_set:\n",
    "                new_activities_for_last_location_set = all_activities_for_last_location_set[:3]  # Repeat some activities\n",
    "\n",
    "            combined_plan.append({\n",
    "                f'Day {day+1}': {\n",
    "                    'Location': last_location_name_str,\n",
    "                    'Activities': list(new_activities_for_last_location_set)[:3]\n",
    "                }\n",
    "            })\n",
    "\n",
    "    return json.dumps(combined_plan, indent=4)\n"
   ]
  },
  {
   "cell_type": "code",
   "execution_count": 13,
   "metadata": {
    "colab": {
     "base_uri": "https://localhost:8080/"
    },
    "id": "2-MlozoNlQF9",
    "outputId": "349e9c18-6ebd-4940-fc74-91d6846ec5c3"
   },
   "outputs": [
    {
     "name": "stdout",
     "output_type": "stream",
     "text": [
      "Predicted Trip Plan:\n",
      "[\n",
      "    {\n",
      "        \"Day 1\": {\n",
      "            \"Location\": \"Nuwara Eliya\",\n",
      "            \"Activities\": [\n",
      "                \"Golfing\",\n",
      "                \"Botanical Exploration\",\n",
      "                \"Hiking\"\n",
      "            ]\n",
      "        }\n",
      "    },\n",
      "    {\n",
      "        \"Day 2\": {\n",
      "            \"Location\": \"Ella\",\n",
      "            \"Activities\": [\n",
      "                \"Flying Ravana Mega zipline\",\n",
      "                \"Visit little Adam's Peak\",\n",
      "                \"Hiking Ella rock\"\n",
      "            ]\n",
      "        }\n",
      "    },\n",
      "    {\n",
      "        \"Day 3\": {\n",
      "            \"Location\": \"Mirissa\",\n",
      "            \"Activities\": [\n",
      "                \"Temple Visit\",\n",
      "                \"Visit coconut tree hill\",\n",
      "                \"Surfing\"\n",
      "            ]\n",
      "        }\n",
      "    },\n",
      "    {\n",
      "        \"Day 4\": {\n",
      "            \"Location\": \"Galle\",\n",
      "            \"Activities\": [\n",
      "                \"Explore Galle fort\",\n",
      "                \"Surfing\",\n",
      "                \"Whale watching\"\n",
      "            ]\n",
      "        }\n",
      "    }\n",
      "]\n"
     ]
    },
    {
     "name": "stderr",
     "output_type": "stream",
     "text": [
      "/usr/local/lib/python3.10/dist-packages/sklearn/base.py:493: UserWarning: X does not have valid feature names, but OneHotEncoder was fitted with feature names\n",
      "  warnings.warn(\n",
      "/usr/local/lib/python3.10/dist-packages/sklearn/base.py:493: UserWarning: X does not have valid feature names, but OneHotEncoder was fitted with feature names\n",
      "  warnings.warn(\n",
      "/usr/local/lib/python3.10/dist-packages/sklearn/base.py:493: UserWarning: X does not have valid feature names, but OneHotEncoder was fitted with feature names\n",
      "  warnings.warn(\n",
      "/usr/local/lib/python3.10/dist-packages/sklearn/base.py:493: UserWarning: X does not have valid feature names, but OneHotEncoder was fitted with feature names\n",
      "  warnings.warn(\n"
     ]
    }
   ],
   "source": [
    "# Example user input for testing\n",
    "example_input_dict = {\n",
    "    'Special Requirement': 'Private villa, surfing lessons',\n",
    "    'Destination Type': 'Upcountry,Beachside',\n",
    "    'Duration': 4\n",
    "}\n",
    "\n",
    "# Predict the trip plan considering constraints\n",
    "predicted_plan_with_constraints_json_str = predict_trip_plan(example_input_dict)\n",
    "print(f\"Predicted Trip Plan:\\n{predicted_plan_with_constraints_json_str}\")\n",
    "\n"
   ]
  }
 ],
 "metadata": {
  "colab": {
   "provenance": []
  },
  "kernelspec": {
   "display_name": "Python 3",
   "name": "python3"
  },
  "language_info": {
   "name": "python"
  }
 },
 "nbformat": 4,
 "nbformat_minor": 0
}
